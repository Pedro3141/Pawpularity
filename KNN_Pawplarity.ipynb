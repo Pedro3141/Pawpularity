{
 "cells": [
  {
   "cell_type": "code",
   "execution_count": 1,
   "id": "2716356f",
   "metadata": {},
   "outputs": [],
   "source": [
    "import pandas as pd\n",
    "from sklearn.model_selection import train_test_split\n",
    "from sklearn.metrics import accuracy_score\n",
    "from sklearn import metrics\n",
    "from sklearn import preprocessing\n",
    "from sklearn.neighbors import KNeighborsClassifier"
   ]
  },
  {
   "cell_type": "code",
   "execution_count": 2,
   "id": "9c9cc9c5",
   "metadata": {},
   "outputs": [],
   "source": [
    "df = pd.read_csv(\"https://github.com/Pedro3141/Pawpularity/raw/main/train.csv")"
   ]
  },
  {
   "cell_type": "code",
   "execution_count": 4,
   "id": "1c81ee32",
   "metadata": {},
   "outputs": [],
   "source": [
    "y = df['Pawpularity']                            # label vector\n",
    "X = df.drop(['Pawpularity','Id'], axis='columns')# feature matrix"
   ]
  },
  {
   "cell_type": "code",
   "execution_count": 58,
   "id": "f7fbe101",
   "metadata": {},
   "outputs": [],
   "source": [
    "X_train, X_test, y_train, y_test = train_test_split(X, y, test_size=0.15, random_state=5)"
   ]
  },
  {
   "cell_type": "code",
   "execution_count": 59,
   "id": "d5676a3e",
   "metadata": {},
   "outputs": [],
   "source": [
    "# used a for loop to find the best k-nieghbors (1-100)\n",
    "\n",
    "# scores = {}\n",
    "# for k in range(111,130):\n",
    "#     knn_paw = KNeighborsClassifier(n_neighbors=k)\n",
    "#     knn_paw.fit(X_train, y_train)\n",
    "\n",
    "#     y_predict = knn_paw.predict(X_test)\n",
    "    \n",
    "#     score = accuracy_score(y_test, y_predict)\n",
    "#     scores[k] = score\n",
    "\n",
    "# max_key = max(scores, key = scores.get)\n",
    "# max_value = max(scores.values())\n",
    "\n",
    "# print('\\n', max_key, 'has the highest score:', max_value)"
   ]
  },
  {
   "cell_type": "code",
   "execution_count": 60,
   "id": "04951244",
   "metadata": {},
   "outputs": [
    {
     "name": "stdout",
     "output_type": "stream",
     "text": [
      "0.0363147276395427\n"
     ]
    }
   ],
   "source": [
    "k = 96\n",
    "knn_paw = KNeighborsClassifier(n_neighbors=k)\n",
    "knn_paw.fit(X_train, y_train)\n",
    "\n",
    "y_predict = knn_paw.predict(X_test)\n",
    "\n",
    "score = accuracy_score(y_test, y_predict)\n",
    "print(score)"
   ]
  },
  {
   "cell_type": "code",
   "execution_count": 61,
   "id": "05ec7b0a",
   "metadata": {},
   "outputs": [
    {
     "name": "stdout",
     "output_type": "stream",
     "text": [
      "[0.         0.02083333 0.02083333 ... 0.01041667 0.01041667 0.01041667]\n"
     ]
    }
   ],
   "source": [
    "y_predict_prob_knn = knn_paw.predict_proba(X_test)\n",
    "print(y_predict_prob_knn[:,1])"
   ]
  },
  {
   "cell_type": "code",
   "execution_count": 62,
   "id": "084997bb",
   "metadata": {},
   "outputs": [],
   "source": [
    "fpr, tpr, thresholds = metrics.roc_curve(y_test, y_predict_prob_knn[:,1], pos_label= 38)"
   ]
  },
  {
   "cell_type": "code",
   "execution_count": 63,
   "id": "96f4a498",
   "metadata": {},
   "outputs": [],
   "source": [
    "#AUC\n",
    "AUC = metrics.auc(fpr, tpr)"
   ]
  },
  {
   "cell_type": "code",
   "execution_count": 64,
   "id": "863b2655",
   "metadata": {},
   "outputs": [
    {
     "data": {
      "image/png": "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\n",
      "text/plain": [
       "<Figure size 432x288 with 1 Axes>"
      ]
     },
     "metadata": {
      "needs_background": "light"
     },
     "output_type": "display_data"
    }
   ],
   "source": [
    "import matplotlib.pyplot as plt\n",
    "%matplotlib inline\n",
    "plt.figure()\n",
    "\n",
    "plt.plot(fpr, tpr, color='red', lw=2,\n",
    "            label='ROC Curve (area = %0.2f)' % AUC)\n",
    "\n",
    "plt.plot([0,1], [0,1], color='green', lw=1, linestyle='--')\n",
    "\n",
    "plt.xlim([-0.005, 1.005])\n",
    "plt.ylim([0.0, 1.01])\n",
    "\n",
    "# Labels, Title, Legend:\n",
    "plt.xlabel('False Positive Rate')\n",
    "plt.ylabel('True Positive Rate')\n",
    "plt.title('Receiver operating characteristic')\n",
    "plt.legend(loc=\"lower right\")\n",
    "\n",
    "plt.show()"
   ]
  },
  {
   "cell_type": "code",
   "execution_count": null,
   "id": "3787f894",
   "metadata": {},
   "outputs": [],
   "source": []
  }
 ],
 "metadata": {
  "kernelspec": {
   "display_name": "Python 3",
   "language": "python",
   "name": "python3"
  },
  "language_info": {
   "codemirror_mode": {
    "name": "ipython",
    "version": 3
   },
   "file_extension": ".py",
   "mimetype": "text/x-python",
   "name": "python",
   "nbconvert_exporter": "python",
   "pygments_lexer": "ipython3",
   "version": "3.8.8"
  }
 },
 "nbformat": 4,
 "nbformat_minor": 5
}
