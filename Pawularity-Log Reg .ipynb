{
 "cells": [
  {
   "cell_type": "code",
   "execution_count": 1,
   "id": "cbc99e9c",
   "metadata": {},
   "outputs": [],
   "source": [
    "import pandas as pd\n",
    "from sklearn.model_selection import train_test_split\n",
    "from sklearn.metrics import accuracy_score\n",
    "from sklearn import metrics\n",
    "from sklearn import preprocessing\n",
    "from sklearn.linear_model import LogisticRegression"
   ]
  },
  {
   "cell_type": "code",
   "execution_count": 47,
   "id": "afc21b96",
   "metadata": {},
   "outputs": [],
   "source": [
    "df = pd.read_csv(\"/Users/abigailgarcia/Desktop/4661-DataScience/petfinder-pawpularity-score/train.csv\")\n"
   ]
  },
  {
   "cell_type": "code",
   "execution_count": 48,
   "id": "4d90ac8e",
   "metadata": {},
   "outputs": [],
   "source": [
    "feature_cols = ['Subject Focus','Eyes','Face','Near', 'Action', 'Accessory', 'Group', 'Collage', 'Human', 'Occlusion', 'Info', 'Blur']\n",
    "label_col = ['Pawpularity']"
   ]
  },
  {
   "cell_type": "code",
   "execution_count": 49,
   "id": "49c83bfa",
   "metadata": {},
   "outputs": [],
   "source": [
    "X = df[feature_cols]\n",
    "Y = df[label_col]"
   ]
  },
  {
   "cell_type": "code",
   "execution_count": 50,
   "id": "0bf95f90",
   "metadata": {},
   "outputs": [],
   "source": [
    "X= preprocessing.scale(X)"
   ]
  },
  {
   "cell_type": "code",
   "execution_count": 51,
   "id": "09447a51",
   "metadata": {},
   "outputs": [],
   "source": [
    "X_train, X_test, Y_train, Y_test = train_test_split(X, Y, test_size=0.15, random_state=2)"
   ]
  },
  {
   "cell_type": "code",
   "execution_count": 52,
   "id": "554b1362",
   "metadata": {},
   "outputs": [
    {
     "name": "stderr",
     "output_type": "stream",
     "text": [
      "/Users/abigailgarcia/opt/anaconda3/lib/python3.8/site-packages/sklearn/utils/validation.py:63: DataConversionWarning: A column-vector y was passed when a 1d array was expected. Please change the shape of y to (n_samples, ), for example using ravel().\n",
      "  return f(*args, **kwargs)\n"
     ]
    },
    {
     "name": "stdout",
     "output_type": "stream",
     "text": [
      "0.02488231338264963\n"
     ]
    }
   ],
   "source": [
    "my_logreg = LogisticRegression(random_state=2)\n",
    "\n",
    "my_logreg.fit(X_train, Y_train)\n",
    "\n",
    "Y_predict_lr = my_logreg.predict(X_test)\n",
    "\n",
    "score_lr = accuracy_score(Y_test, Y_predict_lr)\n",
    "\n",
    "print(score_lr)"
   ]
  },
  {
   "cell_type": "code",
   "execution_count": 63,
   "id": "5adf39aa",
   "metadata": {},
   "outputs": [
    {
     "name": "stdout",
     "output_type": "stream",
     "text": [
      "[0.00610848 0.00602051 0.00712794 ... 0.00712794 0.00535512 0.00712794]\n"
     ]
    }
   ],
   "source": [
    "# Estimating the probability (likelihood) of Each Label: \n",
    "Y_predict_prob_lr = my_logreg.predict_proba(X_test)\n",
    "# This line prints the \"estimated likelihood of label=1\" for the testing set:\n",
    "\n",
    "print(Y_predict_prob_lr[:,1])"
   ]
  },
  {
   "cell_type": "code",
   "execution_count": 78,
   "id": "cd700287",
   "metadata": {},
   "outputs": [
    {
     "name": "stdout",
     "output_type": "stream",
     "text": [
      "[0.         0.00136986 0.00479452 0.00753425 0.00821918 0.0109589\n",
      " 0.01712329 0.01917808 0.01986301 0.02465753 0.06643836 0.08356164\n",
      " 0.08493151 0.08835616 0.0890411  0.12054795 0.12123288 0.12260274\n",
      " 0.12328767 0.12534247 0.1260274  0.13219178 0.13424658 0.13561644\n",
      " 0.13767123 0.13972603 0.14726027 0.15273973 0.15479452 0.15616438\n",
      " 0.16849315 0.17123288 0.17534247 0.17671233 0.17876712 0.21369863\n",
      " 0.21506849 0.21917808 0.22739726 0.22876712 0.22945205 0.23630137\n",
      " 0.23835616 0.28150685 0.28287671 0.28493151 0.28561644 0.29383562\n",
      " 0.29520548 0.29931507 0.30068493 0.30136986 0.30205479 0.31164384\n",
      " 0.3130137  0.31369863 0.70958904 0.71575342 0.71917808 0.71986301\n",
      " 0.72328767 0.72465753 0.74520548 0.75       0.75205479 0.75273973\n",
      " 0.75616438 0.7630137  0.79383562 0.79520548 0.79589041 0.79726027\n",
      " 0.79794521 0.80136986 0.82739726 0.90068493 0.90273973 0.93630137\n",
      " 0.9390411  0.93972603 0.94109589 0.94178082 0.94520548 0.94657534\n",
      " 0.94726027 0.95       0.95342466 0.95410959 0.96027397 0.96575342\n",
      " 0.96643836 0.96780822 0.97328767 0.97534247 0.97945205 0.98082192\n",
      " 0.98219178 0.98835616 0.99109589 0.99315068 0.99383562 0.99520548\n",
      " 0.99589041 0.99726027 0.99794521 0.99931507 1.        ]\n",
      "[0.         0.         0.         0.03703704 0.03703704 0.03703704\n",
      " 0.03703704 0.07407407 0.07407407 0.07407407 0.14814815 0.14814815\n",
      " 0.14814815 0.14814815 0.14814815 0.25925926 0.25925926 0.25925926\n",
      " 0.25925926 0.25925926 0.25925926 0.2962963  0.2962963  0.2962963\n",
      " 0.2962963  0.2962963  0.2962963  0.2962963  0.2962963  0.33333333\n",
      " 0.33333333 0.33333333 0.37037037 0.37037037 0.37037037 0.37037037\n",
      " 0.37037037 0.37037037 0.37037037 0.37037037 0.37037037 0.37037037\n",
      " 0.37037037 0.40740741 0.40740741 0.40740741 0.40740741 0.40740741\n",
      " 0.40740741 0.40740741 0.40740741 0.40740741 0.44444444 0.48148148\n",
      " 0.48148148 0.48148148 0.85185185 0.85185185 0.85185185 0.85185185\n",
      " 0.85185185 0.85185185 0.85185185 0.85185185 0.85185185 0.85185185\n",
      " 0.85185185 0.85185185 0.85185185 0.85185185 0.85185185 0.85185185\n",
      " 0.85185185 0.85185185 0.85185185 0.96296296 0.96296296 0.96296296\n",
      " 0.96296296 0.96296296 0.96296296 0.96296296 0.96296296 0.96296296\n",
      " 0.96296296 0.96296296 0.96296296 0.96296296 0.96296296 0.96296296\n",
      " 0.96296296 0.96296296 0.96296296 1.         1.         1.\n",
      " 1.         1.         1.         1.         1.         1.\n",
      " 1.         1.         1.         1.         1.        ]\n"
     ]
    }
   ],
   "source": [
    "\n",
    "from sklearn import metrics\n",
    "\n",
    "fpr, tpr, thresholds = metrics.roc_curve(Y_test, Y_predict_prob_lr[:,1], pos_label= 38)\n",
    "\n",
    "print(fpr)\n",
    "print(tpr)"
   ]
  },
  {
   "cell_type": "code",
   "execution_count": 79,
   "id": "ddb2a557",
   "metadata": {},
   "outputs": [
    {
     "name": "stdout",
     "output_type": "stream",
     "text": [
      "0.6133688483003551\n"
     ]
    }
   ],
   "source": [
    "# AUC:\n",
    "AUC = metrics.auc(fpr, tpr)\n",
    "print(AUC)"
   ]
  },
  {
   "cell_type": "code",
   "execution_count": 76,
   "id": "e9b9fa71",
   "metadata": {},
   "outputs": [
    {
     "data": {
      "image/png": "[encoded data removed]",
      "text/plain": [
       "<Figure size 432x288 with 1 Axes>"
      ]
     },
     "metadata": {
      "needs_background": "light"
     },
     "output_type": "display_data"
    }
   ],
   "source": [
    "#ROC Curve\n",
    "\n",
    "# Importing the \"pyplot\" package of \"matplotlib\" library of python to generate \n",
    "# graphs and plot curves:\n",
    "import matplotlib.pyplot as plt\n",
    "\n",
    "# The following line will tell Jupyter Notebook to keep the figures inside the explorer page \n",
    "# rather than openng a new figure window:\n",
    "%matplotlib inline\n",
    "\n",
    "plt.figure()\n",
    "\n",
    "# Roc Curve:\n",
    "plt.plot(fpr, tpr, color='red', lw=2, \n",
    "         label='ROC Curve (area = %0.2f)' % AUC)\n",
    "\n",
    "# Random Guess line:\n",
    "plt.plot([0, 1], [0, 1], color='blue', lw=1, linestyle='--')\n",
    "\n",
    "# Defining The Range of X-Axis and Y-Axis:\n",
    "plt.xlim([-0.005, 1.005])\n",
    "plt.ylim([0.0, 1.01])\n",
    "\n",
    "# Labels, Title, Legend:\n",
    "plt.xlabel('False Positive Rate')\n",
    "plt.ylabel('True Positive Rate')\n",
    "plt.title('Receiver operating characteristic')\n",
    "plt.legend(loc=\"lower right\")\n",
    "\n",
    "plt.show()"
   ]
  },
  {
   "cell_type": "code",
   "execution_count": null,
   "id": "d682ccdc",
   "metadata": {},
   "outputs": [],
   "source": []
  }
 ],
 "metadata": {
  "kernelspec": {
   "display_name": "Python 3",
   "language": "python",
   "name": "python3"
  },
  "language_info": {
   "codemirror_mode": {
    "name": "ipython",
    "version": 3
   },
   "file_extension": ".py",
   "mimetype": "text/x-python",
   "name": "python",
   "nbconvert_exporter": "python",
   "pygments_lexer": "ipython3",
   "version": "3.8.8"
  }
 },
 "nbformat": 4,
 "nbformat_minor": 5
}
