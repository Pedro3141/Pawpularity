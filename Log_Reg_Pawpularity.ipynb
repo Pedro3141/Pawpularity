{
 "cells": [
  {
   "cell_type": "markdown",
   "metadata": {},
   "source": [
    "# Logistic Regression"
   ]
  },
  {
   "cell_type": "code",
   "execution_count": 118,
   "metadata": {},
   "outputs": [],
   "source": [
    "import pandas as pd\n",
    "from sklearn.model_selection import train_test_split\n",
    "from sklearn.metrics import accuracy_score\n",
    "from sklearn import metrics\n",
    "from sklearn import preprocessing\n",
    "from sklearn.linear_model import LogisticRegression"
   ]
  },
  {
   "cell_type": "code",
   "execution_count": 119,
   "metadata": {},
   "outputs": [],
   "source": [
    "df = pd.read_csv(\"https://github.com/Pedro3141/Pawpularity/raw/main/train.csv\")\n"
   ]
  },
  {
   "cell_type": "code",
   "execution_count": 120,
   "metadata": {},
   "outputs": [],
   "source": [
    "feature_cols = ['Subject Focus','Eyes','Face','Near', 'Action', 'Accessory', 'Group', 'Collage', 'Human', 'Occlusion', 'Info', 'Blur']\n",
    "label_col = ['Pawpularity']"
   ]
  },
  {
   "cell_type": "code",
   "execution_count": 121,
   "metadata": {},
   "outputs": [],
   "source": [
    "X = df[feature_cols]\n",
    "y = df['Pawpularity']"
   ]
  },
  {
   "cell_type": "code",
   "execution_count": 122,
   "metadata": {},
   "outputs": [],
   "source": [
    "# X= preprocessing.scale(X)"
   ]
  },
  {
   "cell_type": "code",
   "execution_count": 123,
   "metadata": {},
   "outputs": [],
   "source": [
    "X_train, X_test, y_train, y_test = train_test_split(X, y, test_size=0.15, random_state=2)"
   ]
  },
  {
   "cell_type": "code",
   "execution_count": 133,
   "metadata": {},
   "outputs": [
    {
     "name": "stdout",
     "output_type": "stream",
     "text": [
      "Accuracy: 0.02488231338264963\n"
     ]
    }
   ],
   "source": [
    "my_logreg = LogisticRegression(random_state=2, max_iter=250)\n",
    "\n",
    "my_logreg.fit(X_train, y_train)\n",
    "\n",
    "y_predict_lr = my_logreg.predict(X_test)\n",
    "\n",
    "score_lr = accuracy_score(y_test, y_predict_lr)\n",
    "\n",
    "print(\"Accuracy: \" + str(score_lr))"
   ]
  },
  {
   "cell_type": "code",
   "execution_count": 134,
   "metadata": {},
   "outputs": [
    {
     "name": "stdout",
     "output_type": "stream",
     "text": [
      "[0.00622701 0.00563611 0.0072657  ... 0.0072657  0.00545342 0.0072657 ]\n"
     ]
    }
   ],
   "source": [
    "# Estimating the probability (likelihood) of Each Label: \n",
    "y_predict_prob_lr = my_logreg.predict_proba(X_test)\n",
    "# This line prints the \"estimated likelihood of label=1\" for the testing set:\n",
    "\n",
    "print(y_predict_prob_lr[:,1])"
   ]
  },
  {
   "cell_type": "code",
   "execution_count": 135,
   "metadata": {},
   "outputs": [
    {
     "name": "stdout",
     "output_type": "stream",
     "text": [
      "[0.         0.00136986 0.00410959 0.00616438 0.00890411 0.00958904\n",
      " 0.01164384 0.0130137  0.05479452 0.05684932 0.06164384 0.06232877\n",
      " 0.06438356 0.06575342 0.06712329 0.09863014 0.10205479 0.10410959\n",
      " 0.10547945 0.12260274 0.12876712 0.12945205 0.13356164 0.13493151\n",
      " 0.1390411  0.13972603 0.14109589 0.14383562 0.15136986 0.15205479\n",
      " 0.15753425 0.15821918 0.15958904 0.17191781 0.20684932 0.20890411\n",
      " 0.2130137  0.21369863 0.21575342 0.2239726  0.2260274  0.22808219\n",
      " 0.23219178 0.27534247 0.27739726 0.28150685 0.28219178 0.28356164\n",
      " 0.28424658 0.28835616 0.29520548 0.29589041 0.29726027 0.69315068\n",
      " 0.69657534 0.70616438 0.70753425 0.71369863 0.71712329 0.72123288\n",
      " 0.74178082 0.74246575 0.74589041 0.74863014 0.75       0.78082192\n",
      " 0.78150685 0.78835616 0.78972603 0.79452055 0.79726027 0.80068493\n",
      " 0.82671233 0.82808219 0.83082192 0.83150685 0.86506849 0.86643836\n",
      " 0.86849315 0.94178082 0.94315068 0.94452055 0.94520548 0.94657534\n",
      " 0.95       0.95205479 0.95410959 0.95547945 0.95753425 0.9630137\n",
      " 0.96643836 0.97054795 0.97671233 0.97876712 0.98013699 0.98561644\n",
      " 0.98767123 0.98972603 0.99520548 0.99589041 0.99726027 0.99863014\n",
      " 1.        ]\n",
      "[0.         0.         0.         0.         0.03703704 0.03703704\n",
      " 0.03703704 0.03703704 0.11111111 0.14814815 0.14814815 0.14814815\n",
      " 0.14814815 0.14814815 0.14814815 0.25925926 0.25925926 0.25925926\n",
      " 0.25925926 0.25925926 0.2962963  0.2962963  0.2962963  0.2962963\n",
      " 0.33333333 0.33333333 0.37037037 0.37037037 0.37037037 0.37037037\n",
      " 0.37037037 0.37037037 0.37037037 0.37037037 0.37037037 0.37037037\n",
      " 0.37037037 0.37037037 0.37037037 0.37037037 0.37037037 0.37037037\n",
      " 0.37037037 0.40740741 0.40740741 0.40740741 0.40740741 0.40740741\n",
      " 0.40740741 0.40740741 0.40740741 0.44444444 0.44444444 0.81481481\n",
      " 0.81481481 0.85185185 0.85185185 0.85185185 0.85185185 0.85185185\n",
      " 0.85185185 0.85185185 0.85185185 0.85185185 0.85185185 0.85185185\n",
      " 0.85185185 0.85185185 0.85185185 0.85185185 0.85185185 0.85185185\n",
      " 0.85185185 0.85185185 0.85185185 0.85185185 0.85185185 0.85185185\n",
      " 0.85185185 0.96296296 0.96296296 0.96296296 0.96296296 0.96296296\n",
      " 0.96296296 0.96296296 1.         1.         1.         1.\n",
      " 1.         1.         1.         1.         1.         1.\n",
      " 1.         1.         1.         1.         1.         1.\n",
      " 1.        ]\n"
     ]
    }
   ],
   "source": [
    "\n",
    "from sklearn import metrics\n",
    "\n",
    "fpr, tpr, thresholds = metrics.roc_curve(y_test, y_predict_prob_lr[:,1], pos_label= 38)\n",
    "\n",
    "print(fpr)\n",
    "print(tpr)"
   ]
  },
  {
   "cell_type": "code",
   "execution_count": 136,
   "metadata": {},
   "outputs": [
    {
     "name": "stdout",
     "output_type": "stream",
     "text": [
      "AUC: 0.6054033485540335\n"
     ]
    }
   ],
   "source": [
    "# AUC:\n",
    "AUC = metrics.auc(fpr, tpr)\n",
    "print(\"AUC: \" + str(AUC))"
   ]
  },
  {
   "cell_type": "code",
   "execution_count": 137,
   "metadata": {},
   "outputs": [
    {
     "data": {
      "image/png": "[encoded data removed]",
      "text/plain": [
       "<Figure size 432x288 with 1 Axes>"
      ]
     },
     "metadata": {
      "needs_background": "light"
     },
     "output_type": "display_data"
    }
   ],
   "source": [
    "#ROC Curve\n",
    "\n",
    "# Importing the \"pyplot\" package of \"matplotlib\" library of python to generate \n",
    "# graphs and plot curves:\n",
    "import matplotlib.pyplot as plt\n",
    "\n",
    "# The following line will tell Jupyter Notebook to keep the figures inside the explorer page \n",
    "# rather than openng a new figure window:\n",
    "%matplotlib inline\n",
    "\n",
    "plt.figure()\n",
    "\n",
    "# Roc Curve:\n",
    "plt.plot(fpr, tpr, color='red', lw=2, \n",
    "         label='ROC Curve (area = %0.2f)' % AUC)\n",
    "\n",
    "# Random Guess line:\n",
    "plt.plot([0, 1], [0, 1], color='blue', lw=1, linestyle='--')\n",
    "\n",
    "# Defining The Range of X-Axis and Y-Axis:\n",
    "plt.xlim([-0.005, 1.005])\n",
    "plt.ylim([0.0, 1.01])\n",
    "\n",
    "# Labels, Title, Legend:\n",
    "plt.xlabel('False Positive Rate')\n",
    "plt.ylabel('True Positive Rate')\n",
    "plt.title('Receiver operating characteristic')\n",
    "plt.legend(loc=\"lower right\")\n",
    "\n",
    "plt.show()"
   ]
  },
  {
   "cell_type": "code",
   "execution_count": null,
   "metadata": {},
   "outputs": [],
   "source": []
  }
 ],
 "metadata": {
  "kernelspec": {
   "display_name": "Python 3",
   "language": "python",
   "name": "python3"
  },
  "language_info": {
   "codemirror_mode": {
    "name": "ipython",
    "version": 3
   },
   "file_extension": ".py",
   "mimetype": "text/x-python",
   "name": "python",
   "nbconvert_exporter": "python",
   "pygments_lexer": "ipython3",
   "version": "3.8.8"
  }
 },
 "nbformat": 4,
 "nbformat_minor": 5
}
